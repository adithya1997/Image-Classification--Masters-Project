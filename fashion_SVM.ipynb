{
  "nbformat": 4,
  "nbformat_minor": 0,
  "metadata": {
    "accelerator": "GPU",
    "colab": {
      "name": "fashion_SVM.ipynb",
      "provenance": [],
      "collapsed_sections": []
    },
    "kernelspec": {
      "display_name": "Python 3",
      "name": "python3"
    },
    "language_info": {
      "name": "python"
    }
  },
  "cells": [
    {
      "cell_type": "code",
      "metadata": {
        "id": "4bAUUZl4ndbZ"
      },
      "source": [
        "from keras.datasets import fashion_mnist\n",
        "import matplotlib.pyplot as plt\n",
        "import numpy as np\n",
        "%matplotlib inline\n",
        "from sklearn.svm import SVC\n",
        "import seaborn as sns\n",
        "from sklearn import metrics\n",
        "import time"
      ],
      "execution_count": null,
      "outputs": []
    },
    {
      "cell_type": "code",
      "metadata": {
        "id": "vzZH_xtVnnkm"
      },
      "source": [
        "(X_train, y_train), (X_test, y_test) = fashion_mnist.load_data()"
      ],
      "execution_count": null,
      "outputs": []
    },
    {
      "cell_type": "code",
      "metadata": {
        "id": "u_J153v4nvD-"
      },
      "source": [
        "class_names = ['T-shirt/top', 'Trouser', 'Pullover', 'Dress', 'Coat', \n",
        "               'Sandal', 'Shirt', 'Sneaker', 'Bag', 'Ankle boot']\n",
        "plt.figure(figsize=(10,12))\n",
        "for i in range(100):\n",
        "    plt.subplot(10,10,i+1)\n",
        "    plt.xticks([])\n",
        "    plt.yticks([])\n",
        "    plt.grid(False)\n",
        "    plt.imshow(X_train[i], cmap=plt.cm.binary)\n",
        "    plt.xlabel(class_names[y_train[i]])"
      ],
      "execution_count": null,
      "outputs": []
    },
    {
      "cell_type": "code",
      "metadata": {
        "id": "nnDka8HconxL"
      },
      "source": [
        "plt.imshow(X_train[10], cmap='gray')\n",
        "plt.title('Class '+ str(y_train[10]))\n",
        "plt.show()"
      ],
      "execution_count": null,
      "outputs": []
    },
    {
      "cell_type": "code",
      "metadata": {
        "id": "kBmjMQhrtyvi"
      },
      "source": [
        "g = sns.countplot(y_train)\n",
        "plt.show()"
      ],
      "execution_count": null,
      "outputs": []
    },
    {
      "cell_type": "code",
      "metadata": {
        "id": "0bFMQ7o5UKSg"
      },
      "source": [
        "X_train = X_train.astype('float32')\n",
        "X_test = X_test.astype('float32')\n",
        "X_train /= 255.0\n",
        "X_test /= 255.0"
      ],
      "execution_count": null,
      "outputs": []
    },
    {
      "cell_type": "code",
      "metadata": {
        "id": "VLBGxosPUiy8"
      },
      "source": [
        "X_train = X_train.reshape(X_train.shape[0], X_train.shape[1] * X_train.shape[2])\n",
        "X_test = X_test.reshape(X_test.shape[0], X_test.shape[1] * X_test.shape[2])"
      ],
      "execution_count": null,
      "outputs": []
    },
    {
      "cell_type": "code",
      "metadata": {
        "id": "kxLnROehUwgM"
      },
      "source": [
        "# SVM Model\n",
        "beg = time.time()\n",
        "svc = SVC(C=1, kernel='linear', gamma=\"auto\")\n",
        "svc.fit(X_train, y_train)\n",
        "end = time.time()\n",
        "svm_time = end-beg\n",
        "print(\"SVM Time: {:0.2f} minute\".format(svm_time/60.0))"
      ],
      "execution_count": null,
      "outputs": []
    },
    {
      "cell_type": "code",
      "metadata": {
        "id": "eCPHVnoyVU3-"
      },
      "source": [
        "y_pred_svc = svc.predict(X_test)\n",
        "svc_f1_score = metrics.f1_score(y_test, y_pred_svc, average= \"weighted\")\n",
        "svc_accu = metrics.accuracy_score(y_test, y_pred_svc)\n",
        "svc_confmat = metrics.confusion_matrix(y_test, y_pred_svc)\n",
        "print(\"-----------------SVM Report---------------\")\n",
        "print(\"F1-Score: {}\".format(svc_f1_score))\n",
        "print(\"Accuracy: {}\".format(svc_accu))\n",
        "print(\"Confusion Matrix: \\n\", svc_confmat)"
      ],
      "execution_count": null,
      "outputs": []
    },
    {
      "cell_type": "code",
      "metadata": {
        "id": "ZG7JZHiw6ilV"
      },
      "source": [
        "def plot_confusion_matrix(cm, names, title='Confusion Matrix', cmap=plt.cm.Blues):\n",
        "    plt.imshow(cm, interpolation='nearest', cmap=cmap)\n",
        "    plt.title(title)\n",
        "    plt.colorbar()\n",
        "    tick_marks = np.arange(len(names))\n",
        "    plt.xticks(tick_marks, names, rotation=90)\n",
        "    plt.yticks(tick_marks, names)\n",
        "    plt.tight_layout()\n",
        "    plt.ylabel('True label')\n",
        "    plt.xlabel('Predicted label')"
      ],
      "execution_count": null,
      "outputs": []
    },
    {
      "cell_type": "code",
      "metadata": {
        "id": "bRr8eSDiaVtf"
      },
      "source": [
        "print('Confusion Matrix')\n",
        "plt.figure()\n",
        "plot_confusion_matrix(svc_confmat, class_names)\n",
        "plt.show()"
      ],
      "execution_count": null,
      "outputs": []
    },
    {
      "cell_type": "code",
      "metadata": {
        "id": "MNdiQEWHaYx3"
      },
      "source": [
        "print(metrics.classification_report(y_test, y_pred_svc))"
      ],
      "execution_count": null,
      "outputs": []
    },
    {
      "cell_type": "code",
      "metadata": {
        "id": "ZHbLXw4U_mr4"
      },
      "source": [
        "print(\"Time taken for SVM:- {:0.2f} minute\".format(svm_time/60.0))"
      ],
      "execution_count": null,
      "outputs": []
    }
  ]
}