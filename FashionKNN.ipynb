{
  "nbformat": 4,
  "nbformat_minor": 0,
  "metadata": {
    "colab": {
      "name": "FashionKNN.ipynb",
      "provenance": [],
      "collapsed_sections": []
    },
    "kernelspec": {
      "name": "python3",
      "display_name": "Python 3"
    },
    "language_info": {
      "name": "python"
    },
    "accelerator": "TPU"
  },
  "cells": [
    {
      "cell_type": "code",
      "metadata": {
        "id": "Ij-YVlGEn2bJ"
      },
      "source": [
        "from keras.datasets import fashion_mnist\n",
        "import matplotlib.pyplot as plt\n",
        "%matplotlib inline\n",
        "import numpy as np\n",
        "import seaborn as sns\n",
        "import time\n",
        "from sklearn.neighbors import KNeighborsClassifier"
      ],
      "execution_count": null,
      "outputs": []
    },
    {
      "cell_type": "code",
      "metadata": {
        "id": "rzFkqpgyn5rW"
      },
      "source": [
        "(X_train, y_train), (X_test, y_test) = fashion_mnist.load_data()"
      ],
      "execution_count": null,
      "outputs": []
    },
    {
      "cell_type": "code",
      "metadata": {
        "id": "olWLC4y4oF0a"
      },
      "source": [
        "class_names = ['T-shirt/top', 'Trouser', 'Pullover', 'Dress', 'Coat', \n",
        "               'Sandal', 'Shirt', 'Sneaker', 'Bag', 'Ankle boot']\n",
        "plt.figure(figsize=(10,12))\n",
        "for i in range(100):\n",
        "    plt.subplot(10,10,i+1)\n",
        "    plt.xticks([])\n",
        "    plt.yticks([])\n",
        "    plt.grid(False)\n",
        "    plt.imshow(X_train[i], cmap=plt.cm.binary)\n",
        "    plt.xlabel(class_names[y_train[i]])"
      ],
      "execution_count": null,
      "outputs": []
    },
    {
      "cell_type": "code",
      "metadata": {
        "id": "FYIBNZ_IoJnP"
      },
      "source": [
        "plt.imshow(X_train[10], cmap='gray')\n",
        "plt.title('Class '+ str(y_train[105]))\n",
        "plt.show()"
      ],
      "execution_count": null,
      "outputs": []
    },
    {
      "cell_type": "code",
      "metadata": {
        "id": "ypoTkgT3oP4s"
      },
      "source": [
        "g = sns.countplot(y_train)\n",
        "plt.show()"
      ],
      "execution_count": null,
      "outputs": []
    },
    {
      "cell_type": "code",
      "metadata": {
        "id": "fqnctE4voVX1"
      },
      "source": [
        "X_train = X_train.astype('float32')\n",
        "X_test = X_test.astype('float32')\n",
        "X_train /= 255.0\n",
        "X_test /= 255.0"
      ],
      "execution_count": null,
      "outputs": []
    },
    {
      "cell_type": "code",
      "metadata": {
        "id": "r6xJI8ICoc5R"
      },
      "source": [
        "X_train = X_train.reshape(X_train.shape[0], X_train.shape[1] * X_train.shape[2])\n",
        "X_test = X_test.reshape(X_test.shape[0], X_test.shape[1] * X_test.shape[2])\n",
        "print(X_train.shape)\n",
        "print(X_test.shape)"
      ],
      "execution_count": null,
      "outputs": []
    },
    {
      "cell_type": "code",
      "metadata": {
        "id": "OJlfG2buqXOx"
      },
      "source": [
        "# KNN Model\n",
        "beg = time.time()\n",
        "knn1 = KNeighborsClassifier(n_neighbors=5)\n",
        "knn1.fit(X_train, y_train)\n",
        "y_pred_knn1 = knn1.predict(X_test)\n",
        "end = time.time()\n",
        "knn1_time = end-beg"
      ],
      "execution_count": null,
      "outputs": []
    },
    {
      "cell_type": "code",
      "metadata": {
        "id": "JvNuLmO4o4AH"
      },
      "source": [
        "from sklearn import metrics\n",
        "knn1_f1s = metrics.f1_score(y_test, y_pred_knn1, average= \"weighted\")\n",
        "knn1_accu = metrics.accuracy_score(y_test, y_pred_knn1)\n",
        "knn1_confmat = metrics.confusion_matrix(y_test, y_pred_knn1)\n",
        "print(\"-----------------K-nearest neighbors Report---------------\")\n",
        "print(\"F1-Score:- {}\".format(knn1_f1s))\n",
        "print(\"Accuracy:- {}\".format(knn1_accu))\n",
        "print(\"Confusion Matrix:- \\n\", knn1_confmat)"
      ],
      "execution_count": null,
      "outputs": []
    },
    {
      "cell_type": "code",
      "metadata": {
        "id": "XPwDCfw15xAc"
      },
      "source": [
        "def plot_confusion_matrix(cm, names, title='Confusion Matrix', cmap=plt.cm.Blues):\n",
        "    plt.imshow(cm, interpolation='nearest', cmap=cmap)\n",
        "    plt.title(title)\n",
        "    plt.colorbar()\n",
        "    tick_marks = np.arange(len(names))\n",
        "    plt.xticks(tick_marks, names, rotation=90)\n",
        "    plt.yticks(tick_marks, names)\n",
        "    plt.tight_layout()\n",
        "    plt.ylabel('True label')\n",
        "    plt.xlabel('Predicted label')"
      ],
      "execution_count": null,
      "outputs": []
    },
    {
      "cell_type": "code",
      "metadata": {
        "id": "TCzfw6QbpU0Z"
      },
      "source": [
        "plt.figure()\n",
        "plot_confusion_matrix(knn1_confmat, class_names)\n",
        "plt.show()"
      ],
      "execution_count": null,
      "outputs": []
    },
    {
      "cell_type": "code",
      "metadata": {
        "id": "aV998w0ipX99"
      },
      "source": [
        "print(metrics.classification_report(y_test, y_pred_knn1))"
      ],
      "execution_count": null,
      "outputs": []
    },
    {
      "cell_type": "code",
      "metadata": {
        "id": "xlWFsNdqpDlf"
      },
      "source": [
        "print(\"Time for KNN: {:0.2f} minute\".format(knn1_time/60.0))"
      ],
      "execution_count": null,
      "outputs": []
    }
  ]
}